{
 "cells": [
  {
   "cell_type": "code",
   "execution_count": 2,
   "id": "db75be84-8298-4868-aecd-3f0a22b3e4ad",
   "metadata": {},
   "outputs": [
    {
     "name": "stdin",
     "output_type": "stream",
     "text": [
      "Enter your password:  Nit@$72in\n"
     ]
    },
    {
     "name": "stdout",
     "output_type": "stream",
     "text": [
      "\n",
      "Password strength: Strong\n",
      "Feedback:\n",
      "- Strong password!\n"
     ]
    }
   ],
   "source": [
    "import re\n",
    "\n",
    "def check_password_strength(password):\n",
    "    strength_score = 0\n",
    "    feedback = []\n",
    "    if len(password) >= 8:\n",
    "        strength_score += 1\n",
    "    else:\n",
    "        feedback.append(\"Password should be at least 8 characters long.\")\n",
    "    if re.search(r'[A-Z]', password):\n",
    "        strength_score += 1\n",
    "    else:\n",
    "        feedback.append(\"Password should contain at least one uppercase letter.\")\n",
    "    if re.search(r'[a-z]', password):\n",
    "        strength_score += 1\n",
    "    else:\n",
    "        feedback.append(\"Password should contain at least one lowercase letter.\")\n",
    "    if re.search(r'\\d', password):\n",
    "        strength_score += 1\n",
    "    else:\n",
    "        feedback.append(\"Password should contain at least one number.\")\n",
    "\n",
    "    if re.search(r'[!@#$%^&*(),.?\":{}|<>]', password):\n",
    "        strength_score += 1\n",
    "    else:\n",
    "        feedback.append(\"Password should contain at least one special character.\")\n",
    "\n",
    "    if strength_score == 5:\n",
    "        feedback.append(\"Strong password!\")\n",
    "        return \"Strong\", feedback\n",
    "    elif 3 <= strength_score < 5:\n",
    "        feedback.append(\"Moderate password. Improve by adding more variety in characters.\")\n",
    "        return \"Moderate\", feedback\n",
    "    else:\n",
    "        feedback.append(\"Weak password. Please follow the guidelines to strengthen it.\")\n",
    "        return \"Weak\", feedback\n",
    "\n",
    "def password_assessment():\n",
    "    password = input(\"Enter your password: \")\n",
    "\n",
    "    strength, feedback = check_password_strength(password)\n",
    "    \n",
    "    print(f\"\\nPassword strength: {strength}\")\n",
    "    print(\"Feedback:\")\n",
    "    for f in feedback:\n",
    "        print(f\"- {f}\")\n",
    "\n",
    "password_assessment()\n"
   ]
  },
  {
   "cell_type": "code",
   "execution_count": null,
   "id": "213fa6bd-d117-4b01-b26c-cf7c41645ee4",
   "metadata": {},
   "outputs": [],
   "source": []
  }
 ],
 "metadata": {
  "kernelspec": {
   "display_name": "Python 3 (ipykernel)",
   "language": "python",
   "name": "python3"
  },
  "language_info": {
   "codemirror_mode": {
    "name": "ipython",
    "version": 3
   },
   "file_extension": ".py",
   "mimetype": "text/x-python",
   "name": "python",
   "nbconvert_exporter": "python",
   "pygments_lexer": "ipython3",
   "version": "3.12.4"
  }
 },
 "nbformat": 4,
 "nbformat_minor": 5
}
