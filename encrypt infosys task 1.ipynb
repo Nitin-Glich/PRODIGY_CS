{
 "cells": [
  {
   "cell_type": "code",
   "execution_count": null,
   "id": "d3ce21ba-7495-4a3a-9468-95d6000a66cc",
   "metadata": {},
   "outputs": [],
   "source": [
    "def encrypt(text, shift):\n",
    "    result = \"\"\n",
    "    for char in text:\n",
    "        if char.isupper():\n",
    "            result += chr((ord(char) + shift - 65) % 26 + 65)\n",
    "        elif char.islower():\n",
    "            result += chr((ord(char) + shift - 97) % 26 + 97)\n",
    "        else:\n",
    "            result += char \n",
    "    return result\n",
    "def decrypt(text, shift):\n",
    "    return encrypt(text, -shift)  \n",
    "while True:\n",
    "    choice = input(\"Do you want to (e)ncrypt or (d)ecrypt? \").lower()\n",
    "\n",
    "    if choice in ['e', 'd']:\n",
    "        message = input(\"Enter your message: \")\n",
    "        shift = int(input(\"Enter the shift value: \"))\n",
    "\n",
    "        if choice == 'e':\n",
    "            encrypted_message = encrypt(message, shift)\n",
    "            print(f\"Encrypted message: {encrypted_message}\")\n",
    "        else:\n",
    "            decrypted_message = decrypt(message, shift)\n",
    "            print(f\"Decrypted message: {decrypted_message}\")\n",
    "    else:\n",
    "        print(\"Invalid choice, please enter 'e' for encryption or 'd' for decryption.\")\n",
    "    \n",
    "    repeat = input(\"Do you want to perform another operation? (y/n): \").lower()\n",
    "    if repeat != 'y':\n",
    "        break"
   ]
  },
  {
   "cell_type": "code",
   "execution_count": null,
   "id": "5ae3e007-d989-42ba-823f-fc1a65e40ed1",
   "metadata": {},
   "outputs": [],
   "source": []
  }
 ],
 "metadata": {
  "kernelspec": {
   "display_name": "Python 3 (ipykernel)",
   "language": "python",
   "name": "python3"
  },
  "language_info": {
   "codemirror_mode": {
    "name": "ipython",
    "version": 3
   },
   "file_extension": ".py",
   "mimetype": "text/x-python",
   "name": "python",
   "nbconvert_exporter": "python",
   "pygments_lexer": "ipython3",
   "version": "3.12.4"
  }
 },
 "nbformat": 4,
 "nbformat_minor": 5
}
