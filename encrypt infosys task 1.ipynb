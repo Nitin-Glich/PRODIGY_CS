{
 "cells": [
  {
   "cell_type": "code",
   "execution_count": null,
   "id": "e05a0945-6dbd-44b0-9b57-c8aa8618a7af",
   "metadata": {},
   "outputs": [],
   "source": [
    "Sme overwiew of project:\n",
    "\n",
    "Here's a brief overview of the Caesar Cipher program:\n",
    "\n",
    "Encrypt Function: Shifts each letter of the input text by a given \"shift value.\" Uppercase and lowercase letters are handled separately, and non-alphabet characters remain unchanged.\n",
    "\n",
    "Decrypt Function: Reverses the encryption by using the negative of the shift value, effectively restoring the original message.\n",
    "\n",
    "User Input: The program asks the user if they want to encrypt or decrypt a message, takes the message and shift value as input, and then performs the chosen operation.\n",
    "\n",
    "Loop for Continuity: The program allows the user to continue encrypting/decrypting messages until they decide to stop."
   ]
  },
  {
   "cell_type": "code",
   "execution_count": null,
   "id": "d3ce21ba-7495-4a3a-9468-95d6000a66cc",
   "metadata": {},
   "outputs": [
    {
     "name": "stdin",
     "output_type": "stream",
     "text": [
      "Do you want to (e)ncrypt or (d)ecrypt?  e\n"
     ]
    }
   ],
   "source": [
    "\n",
    "def encrypt(text, shift):\n",
    "    result = \"\"\n",
    "    for char in text:\n",
    "        if char.isupper():\n",
    "            result += chr((ord(char) + shift - 65) % 26 + 65)\n",
    "        \n",
    "        elif char.islower():\n",
    "            result += chr((ord(char) + shift - 97) % 26 + 97)\n",
    "        else:\n",
    "            result += char  \n",
    "    return result\n",
    "def decrypt(text, shift):\n",
    "    return encrypt(text, -shift)  \n",
    "while True:\n",
    "    choice = input(\"Do you want to (e)ncrypt or (d)ecrypt? \").lower()\n",
    "\n",
    "    if choice in ['e', 'd']:\n",
    "        message = input(\"Enter your message: \")\n",
    "        shift = int(input(\"Enter the shift value: \"))\n",
    "\n",
    "        if choice == 'e':\n",
    "            encrypted_message = encrypt(message, shift)\n",
    "            print(f\"Encrypted message: {encrypted_message}\")\n",
    "        else:\n",
    "            decrypted_message = decrypt(message, shift)\n",
    "            print(f\"Decrypted message: {decrypted_message}\")\n",
    "    else:\n",
    "        print(\"Invalid choice, please enter 'e' for encryption or 'd' for decryption.\")\n",
    "    \n",
    "    repeat = input(\"Do you want to perform another operation? (y/n): \").lower()\n",
    "    if repeat != 'y':\n",
    "        break"
   ]
  },
  {
   "cell_type": "code",
   "execution_count": null,
   "id": "5ae3e007-d989-42ba-823f-fc1a65e40ed1",
   "metadata": {},
   "outputs": [],
   "source": []
  }
 ],
 "metadata": {
  "kernelspec": {
   "display_name": "Python 3 (ipykernel)",
   "language": "python",
   "name": "python3"
  },
  "language_info": {
   "codemirror_mode": {
    "name": "ipython",
    "version": 3
   },
   "file_extension": ".py",
   "mimetype": "text/x-python",
   "name": "python",
   "nbconvert_exporter": "python",
   "pygments_lexer": "ipython3",
   "version": "3.12.4"
  }
 },
 "nbformat": 4,
 "nbformat_minor": 5
}
